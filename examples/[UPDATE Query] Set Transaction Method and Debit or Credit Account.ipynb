{
 "cells": [
  {
   "cell_type": "code",
   "execution_count": 1,
   "id": "b10c0c41",
   "metadata": {
    "ExecuteTime": {
     "end_time": "2024-03-10T18:06:25.718934Z",
     "start_time": "2024-03-10T18:06:25.705935Z"
    }
   },
   "outputs": [],
   "source": [
    "import sqlite3 as db\n",
    "import datetime as dt"
   ]
  },
  {
   "cell_type": "code",
   "execution_count": 2,
   "id": "05c91273",
   "metadata": {
    "ExecuteTime": {
     "end_time": "2024-03-10T18:06:26.105665Z",
     "start_time": "2024-03-10T18:06:25.736673Z"
    }
   },
   "outputs": [],
   "source": [
    "import numpy as np\n",
    "import pandas as pd\n",
    "\n",
    "%precision 3\n",
    "\n",
    "pd.set_option('display.max_rows', 50) # max. rows to show\n",
    "pd.set_option('display.max_columns', 15) # max. cols to show\n",
    "pd.options.display.float_format = '{:,.3f}'.format # float precisions"
   ]
  },
  {
   "cell_type": "code",
   "execution_count": 5,
   "id": "5388ed4b",
   "metadata": {
    "ExecuteTime": {
     "end_time": "2024-03-10T18:06:35.315322Z",
     "start_time": "2024-03-10T18:06:35.307322Z"
    }
   },
   "outputs": [],
   "source": [
    "finfolio = db.connect(r\"D:\\pOrgz-dev\\finfolio-db-original.db\") # connect to master db, finalized"
   ]
  },
  {
   "cell_type": "code",
   "execution_count": 9,
   "id": "e4ce7885",
   "metadata": {
    "ExecuteTime": {
     "end_time": "2024-03-10T18:16:31.610642Z",
     "start_time": "2024-03-10T18:16:31.566744Z"
    }
   },
   "outputs": [
    {
     "data": {
      "text/html": [
       "<div>\n",
       "<style scoped>\n",
       "    .dataframe tbody tr th:only-of-type {\n",
       "        vertical-align: middle;\n",
       "    }\n",
       "\n",
       "    .dataframe tbody tr th {\n",
       "        vertical-align: top;\n",
       "    }\n",
       "\n",
       "    .dataframe thead th {\n",
       "        text-align: right;\n",
       "    }\n",
       "</style>\n",
       "<table border=\"1\" class=\"dataframe\">\n",
       "  <thead>\n",
       "    <tr style=\"text-align: right;\">\n",
       "      <th></th>\n",
       "      <th>_id</th>\n",
       "      <th>AccountID</th>\n",
       "      <th>trxDate</th>\n",
       "      <th>trxType</th>\n",
       "      <th>trxAmount</th>\n",
       "      <th>trxDescOrig</th>\n",
       "      <th>_trxDescDrv</th>\n",
       "      <th>_trxMethod</th>\n",
       "      <th>_trxAccount</th>\n",
       "      <th>_self_account_transfer</th>\n",
       "      <th>_tag_by_automation</th>\n",
       "      <th>_tag_by_end_user</th>\n",
       "      <th>created_on</th>\n",
       "      <th>updated_on</th>\n",
       "    </tr>\n",
       "  </thead>\n",
       "  <tbody>\n",
       "    <tr>\n",
       "      <th>1006</th>\n",
       "      <td>1007</td>\n",
       "      <td>9BC11EF0-16F3-4DE4-A6DB-01AF8775D7E6</td>\n",
       "      <td>2017-11-06</td>\n",
       "      <td>WITHDRAW</td>\n",
       "      <td>70.000</td>\n",
       "      <td>by debit card-OTHPOS143459 THE YELLOW STRAW   ...</td>\n",
       "      <td>None</td>\n",
       "      <td>None</td>\n",
       "      <td>None</td>\n",
       "      <td>0</td>\n",
       "      <td>None</td>\n",
       "      <td>None</td>\n",
       "      <td>2022-01-01 10:00:00</td>\n",
       "      <td>None</td>\n",
       "    </tr>\n",
       "    <tr>\n",
       "      <th>1104</th>\n",
       "      <td>1105</td>\n",
       "      <td>9BC11EF0-16F3-4DE4-A6DB-01AF8775D7E6</td>\n",
       "      <td>2018-06-25</td>\n",
       "      <td>DEPOSIT</td>\n",
       "      <td>50.000</td>\n",
       "      <td>CREDIT INTEREST-- ref:: nan</td>\n",
       "      <td>None</td>\n",
       "      <td>INTEREST</td>\n",
       "      <td>None</td>\n",
       "      <td>0</td>\n",
       "      <td>None</td>\n",
       "      <td>None</td>\n",
       "      <td>2022-01-01 11:00:00</td>\n",
       "      <td>2024-03-10 17:10:05</td>\n",
       "    </tr>\n",
       "    <tr>\n",
       "      <th>2596</th>\n",
       "      <td>2598</td>\n",
       "      <td>9BC11EF0-16F3-4DE4-A6DB-01AF8775D7E6</td>\n",
       "      <td>2021-10-29</td>\n",
       "      <td>DEPOSIT</td>\n",
       "      <td>1,857.000</td>\n",
       "      <td>BY TRANSFER- UPI/CR/130213761006/SOHA\\nM  S/SB...</td>\n",
       "      <td>None</td>\n",
       "      <td>UPI</td>\n",
       "      <td>None</td>\n",
       "      <td>0</td>\n",
       "      <td>None</td>\n",
       "      <td>None</td>\n",
       "      <td>2024-04-01 05:00:00</td>\n",
       "      <td>2024-03-10 16:50:35</td>\n",
       "    </tr>\n",
       "  </tbody>\n",
       "</table>\n",
       "</div>"
      ],
      "text/plain": [
       "       _id                             AccountID     trxDate   trxType  \\\n",
       "1006  1007  9BC11EF0-16F3-4DE4-A6DB-01AF8775D7E6  2017-11-06  WITHDRAW   \n",
       "1104  1105  9BC11EF0-16F3-4DE4-A6DB-01AF8775D7E6  2018-06-25   DEPOSIT   \n",
       "2596  2598  9BC11EF0-16F3-4DE4-A6DB-01AF8775D7E6  2021-10-29   DEPOSIT   \n",
       "\n",
       "      trxAmount                                        trxDescOrig  \\\n",
       "1006     70.000  by debit card-OTHPOS143459 THE YELLOW STRAW   ...   \n",
       "1104     50.000                        CREDIT INTEREST-- ref:: nan   \n",
       "2596  1,857.000  BY TRANSFER- UPI/CR/130213761006/SOHA\\nM  S/SB...   \n",
       "\n",
       "     _trxDescDrv _trxMethod _trxAccount  _self_account_transfer  \\\n",
       "1006        None       None        None                       0   \n",
       "1104        None   INTEREST        None                       0   \n",
       "2596        None        UPI        None                       0   \n",
       "\n",
       "     _tag_by_automation _tag_by_end_user           created_on  \\\n",
       "1006               None             None  2022-01-01 10:00:00   \n",
       "1104               None             None  2022-01-01 11:00:00   \n",
       "2596               None             None  2024-04-01 05:00:00   \n",
       "\n",
       "               updated_on  \n",
       "1006                 None  \n",
       "1104  2024-03-10 17:10:05  \n",
       "2596  2024-03-10 16:50:35  "
      ]
     },
     "execution_count": 9,
     "metadata": {},
     "output_type": "execute_result"
    }
   ],
   "source": [
    "transactions = pd.read_sql(\"SELECT * FROM 'ams.transactions'\", finfolio)\n",
    "transactions.sample(3)"
   ]
  },
  {
   "cell_type": "code",
   "execution_count": 11,
   "id": "33b6b267",
   "metadata": {
    "ExecuteTime": {
     "end_time": "2024-03-10T18:17:11.125609Z",
     "start_time": "2024-03-10T18:17:11.117611Z"
    }
   },
   "outputs": [],
   "source": [
    "transactions[\"trxAmount\"] = transactions[\"trxAmount\"].round(2)"
   ]
  },
  {
   "cell_type": "code",
   "execution_count": null,
   "id": "e0bdc6a5",
   "metadata": {},
   "outputs": [],
   "source": []
  },
  {
   "cell_type": "code",
   "execution_count": 14,
   "id": "11813407",
   "metadata": {
    "ExecuteTime": {
     "end_time": "2024-03-10T18:17:40.172619Z",
     "start_time": "2024-03-10T18:17:39.923698Z"
    }
   },
   "outputs": [
    {
     "data": {
      "text/plain": [
       "4840"
      ]
     },
     "execution_count": 14,
     "metadata": {},
     "output_type": "execute_result"
    }
   ],
   "source": [
    "# transactions.to_sql(\"ams.transactions\", finfolio, index = False, if_exists = \"append\")"
   ]
  },
  {
   "cell_type": "code",
   "execution_count": 13,
   "id": "ecd33d9d",
   "metadata": {
    "ExecuteTime": {
     "end_time": "2024-03-10T18:17:15.774518Z",
     "start_time": "2024-03-10T18:17:15.754487Z"
    }
   },
   "outputs": [
    {
     "data": {
      "text/plain": [
       "_id                          0\n",
       "AccountID                    0\n",
       "trxDate                      0\n",
       "trxType                      0\n",
       "trxAmount                    0\n",
       "trxDescOrig                  0\n",
       "_trxDescDrv               4840\n",
       "_trxMethod                1006\n",
       "_trxAccount               4584\n",
       "_self_account_transfer       0\n",
       "_tag_by_automation        4840\n",
       "_tag_by_end_user          4815\n",
       "created_on                   0\n",
       "updated_on                 972\n",
       "dtype: int64"
      ]
     },
     "execution_count": 13,
     "metadata": {},
     "output_type": "execute_result"
    }
   ],
   "source": [
    "transactions.isnull().sum()"
   ]
  },
  {
   "cell_type": "markdown",
   "id": "e1cfb7b9",
   "metadata": {},
   "source": [
    "## Transaction Method: `NEFT`"
   ]
  },
  {
   "cell_type": "code",
   "execution_count": 38,
   "id": "2e3dc059",
   "metadata": {
    "ExecuteTime": {
     "end_time": "2024-03-10T11:21:45.146444Z",
     "start_time": "2024-03-10T11:21:45.125452Z"
    }
   },
   "outputs": [],
   "source": [
    "def _trxMethod(description : str, tags : dict) -> list:\n",
    "    method, account = None, None\n",
    "    \n",
    "    for _method in [\"NEFT\", \"RTGS\", \"UPI\", \"MANDATE DEBIT\"]:\n",
    "        if _method in description:\n",
    "            method = _method\n",
    "            \n",
    "    for _account, _account_name in tags.items():\n",
    "        if _account in description:\n",
    "            account = _account_name\n",
    "    \n",
    "    updated_on = \"2024-03-10 16:50:35\" if any([method, account]) else None\n",
    "    return method, account, updated_on"
   ]
  },
  {
   "cell_type": "code",
   "execution_count": 39,
   "id": "683da5ae",
   "metadata": {
    "ExecuteTime": {
     "end_time": "2024-03-10T11:21:46.670223Z",
     "start_time": "2024-03-10T11:21:46.653611Z"
    }
   },
   "outputs": [],
   "source": [
    "tags = {\n",
    "    \"JASNI A S\" : \"JASNI A SALIM\",\n",
    "    \"DIGITAL INDIAN\" : \"DIGITAL INDIAN PVT LTD\",\n",
    "    \"RELIANCE JIO INF\" : \"RELIANCE JIO INFOCOMM LTD\",\n",
    "    \"RELIANCE DIGITAL\" : \"RELIANCE JIO INFOCOMM LTD\",\n",
    "    \"JIO PLATFORMS LI\" : \"RELIANCE JIO INFOCOMM LTD\",\n",
    "    \"INSPIRIGENCE WOR\" : \"INSPIRIGENCE WORKS PVT LTD\",\n",
    "    \"PIDILITE INDUSTRIES\" : \"PIDILITE INDUSTRIES PVT LTD\",\n",
    "    \n",
    "    \"ZERODHA\" : \"ZERODHA\",\n",
    "    \"IIFL SECURITIES\" : \"IIFL SECURITIES\"\n",
    "}"
   ]
  },
  {
   "cell_type": "code",
   "execution_count": 40,
   "id": "44090ab4",
   "metadata": {
    "ExecuteTime": {
     "end_time": "2024-03-10T11:21:47.574138Z",
     "start_time": "2024-03-10T11:21:47.548128Z"
    }
   },
   "outputs": [],
   "source": [
    "transactions[\"_trxMethod\"], transactions[\"_trxAccount\"], transactions[\"updated_on\"] = zip(*transactions[\"trxDescOrig\"].apply(lambda x : _trxMethod(x, tags = tags)))"
   ]
  },
  {
   "cell_type": "code",
   "execution_count": 16,
   "id": "ae49d437",
   "metadata": {
    "ExecuteTime": {
     "end_time": "2024-03-10T19:12:26.557774Z",
     "start_time": "2024-03-10T19:12:26.536386Z"
    }
   },
   "outputs": [
    {
     "data": {
      "text/plain": [
       "UPI         3320\n",
       "NEFT         224\n",
       "ATMCASH      136\n",
       "MANDATE       62\n",
       "INTEREST      60\n",
       "IMPS          32\n",
       "Name: _trxMethod, dtype: int64"
      ]
     },
     "execution_count": 16,
     "metadata": {},
     "output_type": "execute_result"
    }
   ],
   "source": [
    "transactions[\"_trxMethod\"].value_counts()"
   ]
  },
  {
   "cell_type": "code",
   "execution_count": 8,
   "id": "b977ae1e",
   "metadata": {
    "ExecuteTime": {
     "end_time": "2024-03-10T18:06:46.971469Z",
     "start_time": "2024-03-10T18:06:46.933484Z"
    }
   },
   "outputs": [
    {
     "data": {
      "text/html": [
       "<div>\n",
       "<style scoped>\n",
       "    .dataframe tbody tr th:only-of-type {\n",
       "        vertical-align: middle;\n",
       "    }\n",
       "\n",
       "    .dataframe tbody tr th {\n",
       "        vertical-align: top;\n",
       "    }\n",
       "\n",
       "    .dataframe thead th {\n",
       "        text-align: right;\n",
       "    }\n",
       "</style>\n",
       "<table border=\"1\" class=\"dataframe\">\n",
       "  <thead>\n",
       "    <tr style=\"text-align: right;\">\n",
       "      <th></th>\n",
       "      <th>_trxAccount</th>\n",
       "      <th>_trxMethod</th>\n",
       "      <th>trxType</th>\n",
       "      <th>trxAmount</th>\n",
       "    </tr>\n",
       "  </thead>\n",
       "  <tbody>\n",
       "    <tr>\n",
       "      <th>0</th>\n",
       "      <td></td>\n",
       "      <td></td>\n",
       "      <td>DEPOSIT</td>\n",
       "      <td>3,633,060.250</td>\n",
       "    </tr>\n",
       "    <tr>\n",
       "      <th>1</th>\n",
       "      <td></td>\n",
       "      <td></td>\n",
       "      <td>WITHDRAW</td>\n",
       "      <td>5,889,802.620</td>\n",
       "    </tr>\n",
       "    <tr>\n",
       "      <th>2</th>\n",
       "      <td></td>\n",
       "      <td>ATMCASH</td>\n",
       "      <td>DEPOSIT</td>\n",
       "      <td>2,500.000</td>\n",
       "    </tr>\n",
       "    <tr>\n",
       "      <th>3</th>\n",
       "      <td></td>\n",
       "      <td>ATMCASH</td>\n",
       "      <td>WITHDRAW</td>\n",
       "      <td>347,500.000</td>\n",
       "    </tr>\n",
       "    <tr>\n",
       "      <th>4</th>\n",
       "      <td></td>\n",
       "      <td>IMPS</td>\n",
       "      <td>DEPOSIT</td>\n",
       "      <td>167,155.880</td>\n",
       "    </tr>\n",
       "    <tr>\n",
       "      <th>5</th>\n",
       "      <td></td>\n",
       "      <td>IMPS</td>\n",
       "      <td>WITHDRAW</td>\n",
       "      <td>88,233.180</td>\n",
       "    </tr>\n",
       "    <tr>\n",
       "      <th>6</th>\n",
       "      <td></td>\n",
       "      <td>INTEREST</td>\n",
       "      <td>DEPOSIT</td>\n",
       "      <td>33,603.000</td>\n",
       "    </tr>\n",
       "    <tr>\n",
       "      <th>7</th>\n",
       "      <td></td>\n",
       "      <td>MANDATE</td>\n",
       "      <td>WITHDRAW</td>\n",
       "      <td>59.000</td>\n",
       "    </tr>\n",
       "    <tr>\n",
       "      <th>8</th>\n",
       "      <td></td>\n",
       "      <td>NEFT</td>\n",
       "      <td>DEPOSIT</td>\n",
       "      <td>405,918.310</td>\n",
       "    </tr>\n",
       "    <tr>\n",
       "      <th>9</th>\n",
       "      <td></td>\n",
       "      <td>NEFT</td>\n",
       "      <td>WITHDRAW</td>\n",
       "      <td>45,200.000</td>\n",
       "    </tr>\n",
       "    <tr>\n",
       "      <th>10</th>\n",
       "      <td></td>\n",
       "      <td>UPI</td>\n",
       "      <td>DEPOSIT</td>\n",
       "      <td>1,527,635.260</td>\n",
       "    </tr>\n",
       "    <tr>\n",
       "      <th>11</th>\n",
       "      <td></td>\n",
       "      <td>UPI</td>\n",
       "      <td>WITHDRAW</td>\n",
       "      <td>7,627,663.030</td>\n",
       "    </tr>\n",
       "    <tr>\n",
       "      <th>12</th>\n",
       "      <td>DIBS</td>\n",
       "      <td>NEFT</td>\n",
       "      <td>DEPOSIT</td>\n",
       "      <td>5,000.000</td>\n",
       "    </tr>\n",
       "    <tr>\n",
       "      <th>13</th>\n",
       "      <td>IIFL</td>\n",
       "      <td>NEFT</td>\n",
       "      <td>DEPOSIT</td>\n",
       "      <td>256,670.180</td>\n",
       "    </tr>\n",
       "    <tr>\n",
       "      <th>14</th>\n",
       "      <td>IWORKS</td>\n",
       "      <td>NEFT</td>\n",
       "      <td>DEPOSIT</td>\n",
       "      <td>177,700.000</td>\n",
       "    </tr>\n",
       "    <tr>\n",
       "      <th>15</th>\n",
       "      <td>JASNI</td>\n",
       "      <td>NEFT</td>\n",
       "      <td>DEPOSIT</td>\n",
       "      <td>5,811.000</td>\n",
       "    </tr>\n",
       "    <tr>\n",
       "      <th>16</th>\n",
       "      <td>KTP</td>\n",
       "      <td></td>\n",
       "      <td>WITHDRAW</td>\n",
       "      <td>700.000</td>\n",
       "    </tr>\n",
       "    <tr>\n",
       "      <th>17</th>\n",
       "      <td>PIL</td>\n",
       "      <td>NEFT</td>\n",
       "      <td>DEPOSIT</td>\n",
       "      <td>1,618,305.000</td>\n",
       "    </tr>\n",
       "    <tr>\n",
       "      <th>18</th>\n",
       "      <td>RIL</td>\n",
       "      <td>NEFT</td>\n",
       "      <td>DEPOSIT</td>\n",
       "      <td>5,843,554.000</td>\n",
       "    </tr>\n",
       "    <tr>\n",
       "      <th>19</th>\n",
       "      <td>ZERODHA</td>\n",
       "      <td></td>\n",
       "      <td>WITHDRAW</td>\n",
       "      <td>113,300.000</td>\n",
       "    </tr>\n",
       "    <tr>\n",
       "      <th>20</th>\n",
       "      <td>ZERODHA</td>\n",
       "      <td>MANDATE</td>\n",
       "      <td>WITHDRAW</td>\n",
       "      <td>103,000.000</td>\n",
       "    </tr>\n",
       "    <tr>\n",
       "      <th>21</th>\n",
       "      <td>ZERODHA</td>\n",
       "      <td>NEFT</td>\n",
       "      <td>DEPOSIT</td>\n",
       "      <td>985,038.450</td>\n",
       "    </tr>\n",
       "  </tbody>\n",
       "</table>\n",
       "</div>"
      ],
      "text/plain": [
       "   _trxAccount _trxMethod   trxType     trxAmount\n",
       "0                           DEPOSIT 3,633,060.250\n",
       "1                          WITHDRAW 5,889,802.620\n",
       "2                 ATMCASH   DEPOSIT     2,500.000\n",
       "3                 ATMCASH  WITHDRAW   347,500.000\n",
       "4                    IMPS   DEPOSIT   167,155.880\n",
       "5                    IMPS  WITHDRAW    88,233.180\n",
       "6                INTEREST   DEPOSIT    33,603.000\n",
       "7                 MANDATE  WITHDRAW        59.000\n",
       "8                    NEFT   DEPOSIT   405,918.310\n",
       "9                    NEFT  WITHDRAW    45,200.000\n",
       "10                    UPI   DEPOSIT 1,527,635.260\n",
       "11                    UPI  WITHDRAW 7,627,663.030\n",
       "12        DIBS       NEFT   DEPOSIT     5,000.000\n",
       "13        IIFL       NEFT   DEPOSIT   256,670.180\n",
       "14      IWORKS       NEFT   DEPOSIT   177,700.000\n",
       "15       JASNI       NEFT   DEPOSIT     5,811.000\n",
       "16         KTP             WITHDRAW       700.000\n",
       "17         PIL       NEFT   DEPOSIT 1,618,305.000\n",
       "18         RIL       NEFT   DEPOSIT 5,843,554.000\n",
       "19     ZERODHA             WITHDRAW   113,300.000\n",
       "20     ZERODHA    MANDATE  WITHDRAW   103,000.000\n",
       "21     ZERODHA       NEFT   DEPOSIT   985,038.450"
      ]
     },
     "execution_count": 8,
     "metadata": {},
     "output_type": "execute_result"
    }
   ],
   "source": [
    "transactions.fillna(\"\").groupby([\"_trxAccount\", \"_trxMethod\", \"trxType\"])[\"trxAmount\"].sum().reset_index()"
   ]
  }
 ],
 "metadata": {
  "kernelspec": {
   "display_name": "Python 3 (ipykernel)",
   "language": "python",
   "name": "python3"
  },
  "language_info": {
   "codemirror_mode": {
    "name": "ipython",
    "version": 3
   },
   "file_extension": ".py",
   "mimetype": "text/x-python",
   "name": "python",
   "nbconvert_exporter": "python",
   "pygments_lexer": "ipython3",
   "version": "3.9.13"
  },
  "varInspector": {
   "cols": {
    "lenName": 16,
    "lenType": 16,
    "lenVar": 40
   },
   "kernels_config": {
    "python": {
     "delete_cmd_postfix": "",
     "delete_cmd_prefix": "del ",
     "library": "var_list.py",
     "varRefreshCmd": "print(var_dic_list())"
    },
    "r": {
     "delete_cmd_postfix": ") ",
     "delete_cmd_prefix": "rm(",
     "library": "var_list.r",
     "varRefreshCmd": "cat(var_dic_list()) "
    }
   },
   "types_to_exclude": [
    "module",
    "function",
    "builtin_function_or_method",
    "instance",
    "_Feature"
   ],
   "window_display": false
  }
 },
 "nbformat": 4,
 "nbformat_minor": 5
}
