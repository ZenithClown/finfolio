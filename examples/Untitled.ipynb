{
 "cells": [
  {
   "cell_type": "code",
   "execution_count": 1,
   "id": "3ce0dc13",
   "metadata": {
    "ExecuteTime": {
     "end_time": "2024-03-16T16:06:41.683734Z",
     "start_time": "2024-03-16T16:06:41.675738Z"
    }
   },
   "outputs": [],
   "source": [
    "import sqlite3 as db"
   ]
  },
  {
   "cell_type": "code",
   "execution_count": 2,
   "id": "5323e58d",
   "metadata": {
    "ExecuteTime": {
     "end_time": "2024-03-16T16:06:42.323035Z",
     "start_time": "2024-03-16T16:06:41.968807Z"
    }
   },
   "outputs": [],
   "source": [
    "import pandas as pd"
   ]
  },
  {
   "cell_type": "code",
   "execution_count": 3,
   "id": "de4036c0",
   "metadata": {
    "ExecuteTime": {
     "end_time": "2024-03-16T16:06:44.535652Z",
     "start_time": "2024-03-16T16:06:44.413471Z"
    }
   },
   "outputs": [],
   "source": [
    "source = db.connect(r\"D:\\pOrgz-dev\\finfolio-db-original.db\")\n",
    "destination = db.connect(r\"C:\\Users\\debmalya\\pOrgz\\FinFolio-DB.db\")"
   ]
  },
  {
   "cell_type": "code",
   "execution_count": 4,
   "id": "425d25be",
   "metadata": {
    "ExecuteTime": {
     "end_time": "2024-03-16T16:06:52.690247Z",
     "start_time": "2024-03-16T16:06:52.673245Z"
    }
   },
   "outputs": [],
   "source": [
    "import glob"
   ]
  },
  {
   "cell_type": "code",
   "execution_count": 17,
   "id": "80137fff",
   "metadata": {
    "ExecuteTime": {
     "end_time": "2024-03-16T16:54:51.242375Z",
     "start_time": "2024-03-16T16:54:51.226379Z"
    }
   },
   "outputs": [
    {
     "data": {
      "text/plain": [
       "VEDL          2\n",
       "JSWSTEEL      2\n",
       "HOTELEELA     1\n",
       "HESTERBIO     1\n",
       "GIPCL         1\n",
       "             ..\n",
       "RKFORGE       1\n",
       "RAMCOSYS      1\n",
       "RALLIS        1\n",
       "RAJESHEXPO    1\n",
       "ZENTEC        1\n",
       "Name: NSESYMBOL, Length: 1183, dtype: int64"
      ]
     },
     "execution_count": 17,
     "metadata": {},
     "output_type": "execute_result"
    }
   ],
   "source": [
    "data.dropna()[\"NSESYMBOL\"].value_counts()"
   ]
  },
  {
   "cell_type": "code",
   "execution_count": 19,
   "id": "50086e5a",
   "metadata": {
    "ExecuteTime": {
     "end_time": "2024-03-16T16:56:09.272045Z",
     "start_time": "2024-03-16T16:56:08.919503Z"
    }
   },
   "outputs": [
    {
     "data": {
      "text/plain": [
       "1183"
      ]
     },
     "execution_count": 19,
     "metadata": {},
     "output_type": "execute_result"
    }
   ],
   "source": [
    "data = pd.read_excel(r\"C:\\Users\\debmalya\\Downloads\\Eligible_Securities.xlsx\", skiprows = 1, header = None, names = [\"ISINCode\", \"SecurityName\", \"BSECODE\", \"NSESYMBOL\"])\n",
    "data = data[~data[\"ISINCode\"].isin([\"INE256A04022\", \"INE205A04011\", \"INE019A04024\"])]\n",
    "\n",
    "data.dropna().to_sql(\"mwSymbolDetails\", destination, index = False, if_exists = \"append\")"
   ]
  },
  {
   "cell_type": "code",
   "execution_count": 21,
   "id": "b4d46819",
   "metadata": {
    "ExecuteTime": {
     "end_time": "2024-03-16T16:59:04.521991Z",
     "start_time": "2024-03-16T16:59:04.496989Z"
    }
   },
   "outputs": [
    {
     "data": {
      "text/html": [
       "<div>\n",
       "<style scoped>\n",
       "    .dataframe tbody tr th:only-of-type {\n",
       "        vertical-align: middle;\n",
       "    }\n",
       "\n",
       "    .dataframe tbody tr th {\n",
       "        vertical-align: top;\n",
       "    }\n",
       "\n",
       "    .dataframe thead th {\n",
       "        text-align: right;\n",
       "    }\n",
       "</style>\n",
       "<table border=\"1\" class=\"dataframe\">\n",
       "  <thead>\n",
       "    <tr style=\"text-align: right;\">\n",
       "      <th></th>\n",
       "      <th>_sym</th>\n",
       "      <th>ISIN</th>\n",
       "      <th>tradeDate</th>\n",
       "      <th>exchgName</th>\n",
       "      <th>segmentName</th>\n",
       "      <th>seriesName</th>\n",
       "      <th>tradeType</th>\n",
       "      <th>onAuction</th>\n",
       "      <th>tradeQuantity</th>\n",
       "      <th>_symUnitPrice</th>\n",
       "      <th>_trade_id</th>\n",
       "      <th>_order_id</th>\n",
       "      <th>orderExecutionTime</th>\n",
       "      <th>AccountID</th>\n",
       "    </tr>\n",
       "  </thead>\n",
       "  <tbody>\n",
       "    <tr>\n",
       "      <th>156</th>\n",
       "      <td>AFFLE</td>\n",
       "      <td>INE00WC01027</td>\n",
       "      <td>2022-03-09</td>\n",
       "      <td>NSE</td>\n",
       "      <td>EQ</td>\n",
       "      <td>EQ</td>\n",
       "      <td>buy</td>\n",
       "      <td>False</td>\n",
       "      <td>1.0</td>\n",
       "      <td>1177.8</td>\n",
       "      <td>524132</td>\n",
       "      <td>1000000001990010</td>\n",
       "      <td>2022-03-09T09:33:31</td>\n",
       "      <td>ACBC5C5E-F553-4FEC-B214-E22AD84F9587</td>\n",
       "    </tr>\n",
       "  </tbody>\n",
       "</table>\n",
       "</div>"
      ],
      "text/plain": [
       "      _sym          ISIN   tradeDate exchgName segmentName seriesName  \\\n",
       "156  AFFLE  INE00WC01027  2022-03-09       NSE          EQ         EQ   \n",
       "\n",
       "    tradeType  onAuction  tradeQuantity  _symUnitPrice  _trade_id  \\\n",
       "156       buy      False            1.0         1177.8     524132   \n",
       "\n",
       "            _order_id   orderExecutionTime  \\\n",
       "156  1000000001990010  2022-03-09T09:33:31   \n",
       "\n",
       "                                AccountID  \n",
       "156  ACBC5C5E-F553-4FEC-B214-E22AD84F9587  "
      ]
     },
     "execution_count": 21,
     "metadata": {},
     "output_type": "execute_result"
    }
   ],
   "source": [
    "files = glob.glob(r\"F:\\Documents\\Financial Informations\\Account Statements\\Demat, SIP & Equity\\Zerodha Tradebook\\*.csv\")\n",
    "data = pd.concat([pd.read_csv(file) for file in files], ignore_index = True)\n",
    "data.columns = [\"_sym\", \"ISIN\", \"tradeDate\", \"exchgName\", \"segmentName\", \"seriesName\", \"tradeType\", \"onAuction\", \"tradeQuantity\", \"_symUnitPrice\", \"_trade_id\", \"_order_id\", \"orderExecutionTime\"]\n",
    "\n",
    "data[\"AccountID\"] = \"ACBC5C5E-F553-4FEC-B214-E22AD84F9587\"\n",
    "data.sample()"
   ]
  },
  {
   "cell_type": "code",
   "execution_count": 22,
   "id": "94b70b06",
   "metadata": {
    "ExecuteTime": {
     "end_time": "2024-03-16T16:59:09.742691Z",
     "start_time": "2024-03-16T16:59:09.710689Z"
    }
   },
   "outputs": [
    {
     "data": {
      "text/plain": [
       "390"
      ]
     },
     "execution_count": 22,
     "metadata": {},
     "output_type": "execute_result"
    }
   ],
   "source": [
    "data.to_sql(\"ams.DEMATTransactions\", destination, index = False, if_exists = \"append\")"
   ]
  },
  {
   "cell_type": "code",
   "execution_count": 10,
   "id": "4334455c",
   "metadata": {
    "ExecuteTime": {
     "end_time": "2024-03-14T14:26:07.350596Z",
     "start_time": "2024-03-14T14:26:07.333598Z"
    }
   },
   "outputs": [
    {
     "data": {
      "text/html": [
       "<div>\n",
       "<style scoped>\n",
       "    .dataframe tbody tr th:only-of-type {\n",
       "        vertical-align: middle;\n",
       "    }\n",
       "\n",
       "    .dataframe tbody tr th {\n",
       "        vertical-align: top;\n",
       "    }\n",
       "\n",
       "    .dataframe thead th {\n",
       "        text-align: right;\n",
       "    }\n",
       "</style>\n",
       "<table border=\"1\" class=\"dataframe\">\n",
       "  <thead>\n",
       "    <tr style=\"text-align: right;\">\n",
       "      <th></th>\n",
       "      <th>filename</th>\n",
       "      <th>filepath</th>\n",
       "      <th>processed_on</th>\n",
       "      <th>start_index_</th>\n",
       "      <th>final_index_</th>\n",
       "      <th>filetype</th>\n",
       "      <th>protocol</th>\n",
       "      <th>encodings</th>\n",
       "      <th>compression</th>\n",
       "    </tr>\n",
       "  </thead>\n",
       "  <tbody>\n",
       "    <tr>\n",
       "      <th>3</th>\n",
       "      <td>SBI-4096 [2019-01] TRX 2019-01-04 to 2019-03-2...</td>\n",
       "      <td>./object-store/DAB562B5-6152-4765-B09D-D7F3BF3...</td>\n",
       "      <td>2022-01-01 12:00:00</td>\n",
       "      <td>368</td>\n",
       "      <td>541</td>\n",
       "      <td>pkl.gz</td>\n",
       "      <td>5</td>\n",
       "      <td>utf-8</td>\n",
       "      <td>gzip</td>\n",
       "    </tr>\n",
       "    <tr>\n",
       "      <th>13</th>\n",
       "      <td>SBI-7877 [201911] TRX 2019-11-02 to 2019-11-30...</td>\n",
       "      <td>./object-store/9BC11EF0-16F3-4DE4-A6DB-01AF877...</td>\n",
       "      <td>2024-04-01 02:00:00</td>\n",
       "      <td>1837</td>\n",
       "      <td>1859</td>\n",
       "      <td>pkl.gz</td>\n",
       "      <td>5</td>\n",
       "      <td>utf-8</td>\n",
       "      <td>gzip</td>\n",
       "    </tr>\n",
       "    <tr>\n",
       "      <th>0</th>\n",
       "      <td>SBI-4096 [2016] TRX 2016-06-08 to 2016-12-31 N...</td>\n",
       "      <td>./object-store/DAB562B5-6152-4765-B09D-D7F3BF3...</td>\n",
       "      <td>2022-01-01 10:00:00</td>\n",
       "      <td>0</td>\n",
       "      <td>101</td>\n",
       "      <td>pkl.gz</td>\n",
       "      <td>5</td>\n",
       "      <td>utf-8</td>\n",
       "      <td>gzip</td>\n",
       "    </tr>\n",
       "  </tbody>\n",
       "</table>\n",
       "</div>"
      ],
      "text/plain": [
       "                                             filename  \\\n",
       "3   SBI-4096 [2019-01] TRX 2019-01-04 to 2019-03-2...   \n",
       "13  SBI-7877 [201911] TRX 2019-11-02 to 2019-11-30...   \n",
       "0   SBI-4096 [2016] TRX 2016-06-08 to 2016-12-31 N...   \n",
       "\n",
       "                                             filepath         processed_on  \\\n",
       "3   ./object-store/DAB562B5-6152-4765-B09D-D7F3BF3...  2022-01-01 12:00:00   \n",
       "13  ./object-store/9BC11EF0-16F3-4DE4-A6DB-01AF877...  2024-04-01 02:00:00   \n",
       "0   ./object-store/DAB562B5-6152-4765-B09D-D7F3BF3...  2022-01-01 10:00:00   \n",
       "\n",
       "    start_index_  final_index_ filetype  protocol encodings compression  \n",
       "3            368           541   pkl.gz         5     utf-8        gzip  \n",
       "13          1837          1859   pkl.gz         5     utf-8        gzip  \n",
       "0              0           101   pkl.gz         5     utf-8        gzip  "
      ]
     },
     "execution_count": 10,
     "metadata": {},
     "output_type": "execute_result"
    }
   ],
   "source": [
    "transactions = pd.read_sql(\"SELECT * FROM 'dev.objectStore'\", source)\n",
    "transactions.sample(3)"
   ]
  },
  {
   "cell_type": "code",
   "execution_count": 7,
   "id": "0f36b2ea",
   "metadata": {
    "ExecuteTime": {
     "end_time": "2024-03-14T14:22:34.451551Z",
     "start_time": "2024-03-14T14:22:34.434265Z"
    }
   },
   "outputs": [],
   "source": [
    "transactions.rename(columns = {\"_tag_by_end_user\" : \"_trxCategory\"}, inplace = True)"
   ]
  },
  {
   "cell_type": "code",
   "execution_count": 11,
   "id": "a7928fb3",
   "metadata": {
    "ExecuteTime": {
     "end_time": "2024-03-14T14:26:20.181544Z",
     "start_time": "2024-03-14T14:26:20.160174Z"
    }
   },
   "outputs": [
    {
     "data": {
      "text/plain": [
       "19"
      ]
     },
     "execution_count": 11,
     "metadata": {},
     "output_type": "execute_result"
    }
   ],
   "source": [
    "transactions.to_sql(\"dev.objectStore\", destination, index = False, if_exists = \"append\")"
   ]
  }
 ],
 "metadata": {
  "kernelspec": {
   "display_name": "Python 3 (ipykernel)",
   "language": "python",
   "name": "python3"
  },
  "language_info": {
   "codemirror_mode": {
    "name": "ipython",
    "version": 3
   },
   "file_extension": ".py",
   "mimetype": "text/x-python",
   "name": "python",
   "nbconvert_exporter": "python",
   "pygments_lexer": "ipython3",
   "version": "3.9.13"
  },
  "varInspector": {
   "cols": {
    "lenName": 16,
    "lenType": 16,
    "lenVar": 40
   },
   "kernels_config": {
    "python": {
     "delete_cmd_postfix": "",
     "delete_cmd_prefix": "del ",
     "library": "var_list.py",
     "varRefreshCmd": "print(var_dic_list())"
    },
    "r": {
     "delete_cmd_postfix": ") ",
     "delete_cmd_prefix": "rm(",
     "library": "var_list.r",
     "varRefreshCmd": "cat(var_dic_list()) "
    }
   },
   "types_to_exclude": [
    "module",
    "function",
    "builtin_function_or_method",
    "instance",
    "_Feature"
   ],
   "window_display": false
  }
 },
 "nbformat": 4,
 "nbformat_minor": 5
}
