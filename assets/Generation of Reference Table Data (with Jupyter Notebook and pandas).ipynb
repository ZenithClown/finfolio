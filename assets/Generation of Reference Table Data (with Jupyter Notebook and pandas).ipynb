{
 "cells": [
  {
   "cell_type": "code",
   "execution_count": 1,
   "metadata": {
    "ExecuteTime": {
     "end_time": "2021-08-28T07:18:11.795838Z",
     "start_time": "2021-08-28T07:18:06.594481Z"
    }
   },
   "outputs": [],
   "source": [
    "import numpy as np\n",
    "import pandas as pd"
   ]
  },
  {
   "cell_type": "code",
   "execution_count": 4,
   "metadata": {
    "ExecuteTime": {
     "end_time": "2021-08-28T07:18:39.153703Z",
     "start_time": "2021-08-28T07:18:39.137603Z"
    }
   },
   "outputs": [],
   "source": [
    "from uuid import uuid4"
   ]
  },
  {
   "cell_type": "code",
   "execution_count": 9,
   "metadata": {
    "ExecuteTime": {
     "end_time": "2021-08-28T07:43:21.099650Z",
     "start_time": "2021-08-28T07:43:20.271673Z"
    }
   },
   "outputs": [],
   "source": [
    "from dbConnection import DBConnection"
   ]
  },
  {
   "cell_type": "code",
   "execution_count": 11,
   "metadata": {
    "ExecuteTime": {
     "end_time": "2021-08-28T07:46:18.605830Z",
     "start_time": "2021-08-28T07:46:18.263752Z"
    }
   },
   "outputs": [],
   "source": [
    "obj = DBConnection(username = \"pOrgz\", password = \"myAdmin\", db_name = \"mysql\", port = 33061, database = \"financials_dev\")\n",
    "con = obj.connect()"
   ]
  },
  {
   "cell_type": "markdown",
   "metadata": {},
   "source": [
    "## User Roles\n",
    "\n",
    "<p style = \" text-align: justify; \">Users control are defined based on user roles, for <code>pOrgz</code> application. The different role, and their functionalities are as follows:</p>\n",
    "\n",
    "|                                 | ADMIN | USERS | READONLY | REVIEWER |\n",
    "|:-------------------------------:|:-----:|:-----:|:--------:|:--------:|\n",
    "|           Create User           |   Y   |       |          |          |\n",
    "|         Alter/Edit User         |   Y   |   Y   |          |          |\n",
    "|         Drop/Delete User        |   Y   |       |          |          |\n",
    "|        Grant Data Access        |   Y   |       |          |     Y    |\n",
    "|        Revoke Data Access       |   Y   |       |          |     Y    |\n",
    "| Delete Database of a Ghost User |   Y   |       |          |     Y    |\n",
    "|            View Data            |   Y   |   Y   |     Y    |          |\n",
    "|            Edit Data            |   Y   |   Y   |          |          |\n",
    "|           Delete Data           |   Y   |   Y   |          |          |"
   ]
  },
  {
   "cell_type": "code",
   "execution_count": 8,
   "metadata": {
    "ExecuteTime": {
     "end_time": "2021-08-28T07:43:05.219536Z",
     "start_time": "2021-08-28T07:43:05.023749Z"
    }
   },
   "outputs": [
    {
     "data": {
      "text/html": [
       "<div>\n",
       "<style scoped>\n",
       "    .dataframe tbody tr th:only-of-type {\n",
       "        vertical-align: middle;\n",
       "    }\n",
       "\n",
       "    .dataframe tbody tr th {\n",
       "        vertical-align: top;\n",
       "    }\n",
       "\n",
       "    .dataframe thead th {\n",
       "        text-align: right;\n",
       "    }\n",
       "</style>\n",
       "<table border=\"1\" class=\"dataframe\">\n",
       "  <thead>\n",
       "    <tr style=\"text-align: right;\">\n",
       "      <th></th>\n",
       "      <th>RoleID</th>\n",
       "      <th>RoleName</th>\n",
       "    </tr>\n",
       "  </thead>\n",
       "  <tbody>\n",
       "    <tr>\n",
       "      <th>0</th>\n",
       "      <td>a631d600-e16d-468b-9d23-17886bfe9af9</td>\n",
       "      <td>ADMIN</td>\n",
       "    </tr>\n",
       "    <tr>\n",
       "      <th>1</th>\n",
       "      <td>15a969fd-ee6f-4379-8b8f-e21bfe77015c</td>\n",
       "      <td>USERS</td>\n",
       "    </tr>\n",
       "    <tr>\n",
       "      <th>2</th>\n",
       "      <td>15e22b95-10f6-436a-8d24-02c940262076</td>\n",
       "      <td>READONLY</td>\n",
       "    </tr>\n",
       "    <tr>\n",
       "      <th>3</th>\n",
       "      <td>8d8a4296-bb96-418e-83d2-12caf8affaa5</td>\n",
       "      <td>REVIEWER</td>\n",
       "    </tr>\n",
       "  </tbody>\n",
       "</table>\n",
       "</div>"
      ],
      "text/plain": [
       "                                 RoleID  RoleName\n",
       "0  a631d600-e16d-468b-9d23-17886bfe9af9     ADMIN\n",
       "1  15a969fd-ee6f-4379-8b8f-e21bfe77015c     USERS\n",
       "2  15e22b95-10f6-436a-8d24-02c940262076  READONLY\n",
       "3  8d8a4296-bb96-418e-83d2-12caf8affaa5  REVIEWER"
      ]
     },
     "execution_count": 8,
     "metadata": {},
     "output_type": "execute_result"
    }
   ],
   "source": [
    "ROLES_TYPE = [\"ADMIN\", \"USERS\", \"READONLY\", \"REVIEWER\"]\n",
    "\n",
    "# generate pandas dataframe, and push to database (for first time use only)\n",
    "RolesType = pd.DataFrame({\n",
    "    \"RoleID\"   : [ str(uuid4()) for _ in range(len(ROLES_TYPE)) ],\n",
    "    \"RoleName\" : ROLES_TYPE\n",
    "})\n",
    "\n",
    "RolesType"
   ]
  },
  {
   "cell_type": "code",
   "execution_count": 12,
   "metadata": {
    "ExecuteTime": {
     "end_time": "2021-08-28T07:48:16.568821Z",
     "start_time": "2021-08-28T07:48:16.525738Z"
    }
   },
   "outputs": [],
   "source": [
    "RolesType.to_sql(\"RolesType\", con, if_exists = \"append\", index = False)"
   ]
  },
  {
   "cell_type": "markdown",
   "metadata": {},
   "source": [
    "## Account Type"
   ]
  },
  {
   "cell_type": "code",
   "execution_count": 13,
   "metadata": {
    "ExecuteTime": {
     "end_time": "2021-08-28T07:51:35.122892Z",
     "start_time": "2021-08-28T07:51:35.099270Z"
    }
   },
   "outputs": [
    {
     "data": {
      "text/html": [
       "<div>\n",
       "<style scoped>\n",
       "    .dataframe tbody tr th:only-of-type {\n",
       "        vertical-align: middle;\n",
       "    }\n",
       "\n",
       "    .dataframe tbody tr th {\n",
       "        vertical-align: top;\n",
       "    }\n",
       "\n",
       "    .dataframe thead th {\n",
       "        text-align: right;\n",
       "    }\n",
       "</style>\n",
       "<table border=\"1\" class=\"dataframe\">\n",
       "  <thead>\n",
       "    <tr style=\"text-align: right;\">\n",
       "      <th></th>\n",
       "      <th>ACTypeID</th>\n",
       "      <th>ACTypeName</th>\n",
       "    </tr>\n",
       "  </thead>\n",
       "  <tbody>\n",
       "    <tr>\n",
       "      <th>0</th>\n",
       "      <td>08c4a6c5-2fb4-4cf9-92ca-48114e8b5cf2</td>\n",
       "      <td>DEBIT</td>\n",
       "    </tr>\n",
       "    <tr>\n",
       "      <th>1</th>\n",
       "      <td>62432489-c88d-4e06-8281-6ce8563ab616</td>\n",
       "      <td>CREDIT</td>\n",
       "    </tr>\n",
       "  </tbody>\n",
       "</table>\n",
       "</div>"
      ],
      "text/plain": [
       "                               ACTypeID ACTypeName\n",
       "0  08c4a6c5-2fb4-4cf9-92ca-48114e8b5cf2      DEBIT\n",
       "1  62432489-c88d-4e06-8281-6ce8563ab616     CREDIT"
      ]
     },
     "execution_count": 13,
     "metadata": {},
     "output_type": "execute_result"
    }
   ],
   "source": [
    "ACCOUNT_TYPE = [\"DEBIT\", \"CREDIT\"]\n",
    "\n",
    "# generate pandas dataframe, and push to database (for first time use only)\n",
    "AccountType = pd.DataFrame({\n",
    "    \"ACTypeID\"   : [ str(uuid4()) for _ in range(len(ACCOUNT_TYPE)) ],\n",
    "    \"ACTypeName\" : ACCOUNT_TYPE\n",
    "})\n",
    "\n",
    "AccountType"
   ]
  },
  {
   "cell_type": "code",
   "execution_count": 14,
   "metadata": {
    "ExecuteTime": {
     "end_time": "2021-08-28T07:51:44.445423Z",
     "start_time": "2021-08-28T07:51:44.404348Z"
    }
   },
   "outputs": [],
   "source": [
    "AccountType.to_sql(\"AccountType\", con, if_exists = \"append\", index = False)"
   ]
  }
 ],
 "metadata": {
  "kernelspec": {
   "display_name": "Python 3",
   "language": "python",
   "name": "python3"
  },
  "language_info": {
   "codemirror_mode": {
    "name": "ipython",
    "version": 3
   },
   "file_extension": ".py",
   "mimetype": "text/x-python",
   "name": "python",
   "nbconvert_exporter": "python",
   "pygments_lexer": "ipython3",
   "version": "3.8.3"
  },
  "latex_envs": {
   "LaTeX_envs_menu_present": true,
   "autoclose": false,
   "autocomplete": true,
   "bibliofile": "biblio.bib",
   "cite_by": "apalike",
   "current_citInitial": 1,
   "eqLabelWithNumbers": true,
   "eqNumInitial": 1,
   "hotkeys": {
    "equation": "Ctrl-E",
    "itemize": "Ctrl-I"
   },
   "labels_anchors": false,
   "latex_user_defs": false,
   "report_style_numbering": false,
   "user_envs_cfg": false
  },
  "toc": {
   "base_numbering": 1,
   "nav_menu": {},
   "number_sections": false,
   "sideBar": true,
   "skip_h1_title": true,
   "title_cell": "Table of Contents",
   "title_sidebar": "Contents",
   "toc_cell": false,
   "toc_position": {},
   "toc_section_display": true,
   "toc_window_display": false
  },
  "varInspector": {
   "cols": {
    "lenName": 16,
    "lenType": 16,
    "lenVar": 40
   },
   "kernels_config": {
    "python": {
     "delete_cmd_postfix": "",
     "delete_cmd_prefix": "del ",
     "library": "var_list.py",
     "varRefreshCmd": "print(var_dic_list())"
    },
    "r": {
     "delete_cmd_postfix": ") ",
     "delete_cmd_prefix": "rm(",
     "library": "var_list.r",
     "varRefreshCmd": "cat(var_dic_list()) "
    }
   },
   "types_to_exclude": [
    "module",
    "function",
    "builtin_function_or_method",
    "instance",
    "_Feature"
   ],
   "window_display": false
  }
 },
 "nbformat": 4,
 "nbformat_minor": 4
}
