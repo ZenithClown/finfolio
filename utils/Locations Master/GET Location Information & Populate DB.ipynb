{
 "cells": [
  {
   "cell_type": "code",
   "execution_count": 1,
   "id": "58e6e669",
   "metadata": {
    "ExecuteTime": {
     "end_time": "2022-06-16T11:32:41.873050Z",
     "start_time": "2022-06-16T11:32:41.860021Z"
    },
    "deletable": false,
    "editable": false
   },
   "outputs": [
    {
     "data": {
      "text/plain": [
       "'v0.0.1-alpha #semver-2.0.0'"
      ]
     },
     "execution_count": 1,
     "metadata": {},
     "output_type": "execute_result"
    }
   ],
   "source": [
    "# show current version of this code/project\n",
    "# sub-module wide the version is tracked using `VERSION` file, and\n",
    "# code versioning follows https://semver.org/\n",
    "open(\"VERSION\", 'rt').read() # bump codecov"
   ]
  },
  {
   "cell_type": "markdown",
   "id": "810bde41",
   "metadata": {},
   "source": [
    "<h1 align = \"center\">CRUD Location Master</h1>\n",
    "\n",
    "---\n",
    "\n",
    "The notebook fetches data from freely available source(s) to populate `LocationMaster` schema. The schema represents a set of utility table that stores the *place of origin* of a user. Check more information in `CreateStatement.sql` for individual table information. The dataframe object represents the structure as defined in MySQL database.\n",
    "\n",
    "**Data Sources** The following data sources are currently integrated:\n",
    "1. [dr5hn/countries-states-cities-database](https://github.com/dr5hn/countries-states-cities-database)"
   ]
  },
  {
   "cell_type": "code",
   "execution_count": 2,
   "id": "0f8b4b68",
   "metadata": {
    "ExecuteTime": {
     "end_time": "2022-06-16T11:32:41.905049Z",
     "start_time": "2022-06-16T11:32:41.875050Z"
    }
   },
   "outputs": [],
   "source": [
    "import yaml"
   ]
  },
  {
   "cell_type": "code",
   "execution_count": 3,
   "id": "9442c49a",
   "metadata": {
    "ExecuteTime": {
     "end_time": "2022-06-16T11:32:41.920050Z",
     "start_time": "2022-06-16T11:32:41.906050Z"
    }
   },
   "outputs": [],
   "source": [
    "from time import ctime # will be used in logging, file/output directory create etc.\n",
    "from os import makedirs # create directories dynamically, if not already done so manually\n",
    "from os.path import join # keep directories `os`-independent\n",
    "from random import choice # randomly choose from a list of elements\n",
    "from copy import deepcopy # `pd.Dataframe` is mutable, so any `df` operation may need `deepcopy`\n",
    "from tqdm import tqdm as TQ # provide progress bar for code completions\n",
    "from uuid import uuid4 as UUID # keep output file name unique\n",
    "from string import ascii_uppercase # all ascii upercase letters\n",
    "from datetime import datetime as dt # formatting datetime objects"
   ]
  },
  {
   "cell_type": "code",
   "execution_count": 4,
   "id": "dced2be5",
   "metadata": {
    "ExecuteTime": {
     "end_time": "2022-06-16T11:32:42.340987Z",
     "start_time": "2022-06-16T11:32:41.921050Z"
    }
   },
   "outputs": [],
   "source": [
    "# import numpy as np\n",
    "import pandas as pd"
   ]
  },
  {
   "cell_type": "code",
   "execution_count": 5,
   "id": "cb46fb60",
   "metadata": {
    "ExecuteTime": {
     "end_time": "2022-06-16T11:32:43.160199Z",
     "start_time": "2022-06-16T11:32:42.341997Z"
    }
   },
   "outputs": [],
   "source": [
    "import xlwings as xw # https://www.xlwings.org/"
   ]
  },
  {
   "cell_type": "code",
   "execution_count": 6,
   "id": "3b550b9a",
   "metadata": {
    "ExecuteTime": {
     "end_time": "2022-06-16T11:32:43.190754Z",
     "start_time": "2022-06-16T11:32:43.160199Z"
    }
   },
   "outputs": [
    {
     "name": "stdout",
     "output_type": "stream",
     "text": [
      "Code Execution Started on: Thu, Jun 16 2022\n",
      "Output File Name: .\\data\\Location Master (Thu, Jun 16 2022) #350846E.xlsx\n"
     ]
    }
   ],
   "source": [
    "# `today` is so configured that it permits windows/*.nix file/directory names\n",
    "# also a random hash code of seven charecters is apended to the file name, which\n",
    "# ensures unique name under each code run. this code saves the output in `data`\n",
    "today = dt.strftime(dt.strptime(ctime(), \"%a %b %d %H:%M:%S %Y\"), \"%a, %b %d %Y\")\n",
    "random = str(UUID()).upper()[:7]\n",
    "\n",
    "# output file name is generated here, control the name from here, or\n",
    "# define a pre-specified name\n",
    "OUTPUT_FILE = join(\".\", \"data\", f\"Location Master ({today}) #{random}.xlsx\")\n",
    "\n",
    "print(f\"Code Execution Started on: {today}\") # only date\n",
    "print(f\"Output File Name: {OUTPUT_FILE}\")"
   ]
  },
  {
   "cell_type": "code",
   "execution_count": 7,
   "id": "7c9ba75a",
   "metadata": {
    "ExecuteTime": {
     "end_time": "2022-06-16T11:32:43.206683Z",
     "start_time": "2022-06-16T11:32:43.191752Z"
    }
   },
   "outputs": [],
   "source": [
    "IDGenerator = lambda n = 8 : str(UUID().hex[:(n - 1)]).upper() + choice(ascii_uppercase) # generate a `n`-charecter random sequence"
   ]
  },
  {
   "cell_type": "markdown",
   "id": "722bea77",
   "metadata": {},
   "source": [
    "## Country Master\n",
    "\n",
    "Fetch the Country Details, and generate relevant tables."
   ]
  },
  {
   "cell_type": "code",
   "execution_count": 8,
   "id": "decfed21",
   "metadata": {
    "ExecuteTime": {
     "end_time": "2022-06-16T11:32:44.279996Z",
     "start_time": "2022-06-16T11:32:43.208690Z"
    }
   },
   "outputs": [
    {
     "data": {
      "text/html": [
       "<div>\n",
       "<style scoped>\n",
       "    .dataframe tbody tr th:only-of-type {\n",
       "        vertical-align: middle;\n",
       "    }\n",
       "\n",
       "    .dataframe tbody tr th {\n",
       "        vertical-align: top;\n",
       "    }\n",
       "\n",
       "    .dataframe thead th {\n",
       "        text-align: right;\n",
       "    }\n",
       "</style>\n",
       "<table border=\"1\" class=\"dataframe\">\n",
       "  <thead>\n",
       "    <tr style=\"text-align: right;\">\n",
       "      <th></th>\n",
       "      <th>CountryName</th>\n",
       "      <th>ISO3</th>\n",
       "      <th>ISO2</th>\n",
       "      <th>NumericCode</th>\n",
       "      <th>capital</th>\n",
       "      <th>CurrencyCode</th>\n",
       "      <th>CurrencyName</th>\n",
       "      <th>CurrencySymbol</th>\n",
       "      <th>TLDCode</th>\n",
       "      <th>RegionName</th>\n",
       "      <th>SubRegionName</th>\n",
       "      <th>CountryLat</th>\n",
       "      <th>CountryLon</th>\n",
       "      <th>CountryID</th>\n",
       "    </tr>\n",
       "  </thead>\n",
       "  <tbody>\n",
       "    <tr>\n",
       "      <th>18</th>\n",
       "      <td>Barbados</td>\n",
       "      <td>BRB</td>\n",
       "      <td>BB</td>\n",
       "      <td>52</td>\n",
       "      <td>Bridgetown</td>\n",
       "      <td>BBD</td>\n",
       "      <td>Barbadian dollar</td>\n",
       "      <td>Bds$</td>\n",
       "      <td>.bb</td>\n",
       "      <td>Americas</td>\n",
       "      <td>Caribbean</td>\n",
       "      <td>13.167</td>\n",
       "      <td>-59.533</td>\n",
       "      <td>27BFF76M</td>\n",
       "    </tr>\n",
       "  </tbody>\n",
       "</table>\n",
       "</div>"
      ],
      "text/plain": [
       "   CountryName ISO3 ISO2  NumericCode     capital CurrencyCode  \\\n",
       "18    Barbados  BRB   BB           52  Bridgetown          BBD   \n",
       "\n",
       "        CurrencyName CurrencySymbol TLDCode RegionName SubRegionName  \\\n",
       "18  Barbadian dollar           Bds$     .bb   Americas     Caribbean   \n",
       "\n",
       "    CountryLat  CountryLon CountryID  \n",
       "18      13.167     -59.533  27BFF76M  "
      ]
     },
     "execution_count": 8,
     "metadata": {},
     "output_type": "execute_result"
    }
   ],
   "source": [
    "countries = pd.read_csv(\n",
    "    \"https://github.com/dr5hn/countries-states-cities-database/raw/master/csv/countries.csv\",\n",
    "    usecols = [\"name\", \"iso2\", \"iso3\", \"numeric_code\", \"tld\", \"currency\", \"region\", \"subregion\", \"currency_name\", \"currency_symbol\", \"latitude\", \"longitude\", \"capital\"],\n",
    "    encoding = \"utf8\"\n",
    ")\n",
    "\n",
    "# rename columns, to reflect the ones in database\n",
    "countries.rename(columns = {\n",
    "    \"name\" : \"CountryName\",\n",
    "    \"iso3\" : \"ISO3\",\n",
    "    \"iso2\" : \"ISO2\",\n",
    "    \"numeric_code\" : \"NumericCode\",\n",
    "    \"currency\" : \"CurrencyCode\",\n",
    "    \"currency_name\" : \"CurrencyName\",\n",
    "    \"tld\" : \"TLDCode\",\n",
    "    \"region\" : \"RegionName\",\n",
    "    \"subregion\" : \"SubRegionName\",\n",
    "    \"currency_symbol\" : \"CurrencySymbol\",\n",
    "    \"latitude\" : \"CountryLat\",\n",
    "    \"longitude\" : \"CountryLon\"\n",
    "}, inplace = True)\n",
    "\n",
    "countries[\"CountryLat\"] = countries[\"CountryLat\"].apply(lambda x : round(x, 3))\n",
    "countries[\"CountryLon\"] = countries[\"CountryLon\"].apply(lambda x : round(x, 3))\n",
    "\n",
    "# generate id columns\n",
    "countries[\"CountryID\"] = [IDGenerator() for _ in range(countries.shape[0])]\n",
    "countries.sample()"
   ]
  },
  {
   "cell_type": "code",
   "execution_count": 9,
   "id": "9a87e26f",
   "metadata": {
    "ExecuteTime": {
     "end_time": "2022-06-16T11:32:45.548020Z",
     "start_time": "2022-06-16T11:32:44.280996Z"
    }
   },
   "outputs": [
    {
     "data": {
      "text/html": [
       "<div>\n",
       "<style scoped>\n",
       "    .dataframe tbody tr th:only-of-type {\n",
       "        vertical-align: middle;\n",
       "    }\n",
       "\n",
       "    .dataframe tbody tr th {\n",
       "        vertical-align: top;\n",
       "    }\n",
       "\n",
       "    .dataframe thead th {\n",
       "        text-align: right;\n",
       "    }\n",
       "</style>\n",
       "<table border=\"1\" class=\"dataframe\">\n",
       "  <thead>\n",
       "    <tr style=\"text-align: right;\">\n",
       "      <th></th>\n",
       "      <th>StateName</th>\n",
       "      <th>CountryCode</th>\n",
       "      <th>StateCode</th>\n",
       "      <th>StateLat</th>\n",
       "      <th>StateLon</th>\n",
       "      <th>CountryID</th>\n",
       "      <th>ISO2</th>\n",
       "      <th>StateID</th>\n",
       "    </tr>\n",
       "  </thead>\n",
       "  <tbody>\n",
       "    <tr>\n",
       "      <th>1867</th>\n",
       "      <td>Oristano</td>\n",
       "      <td>IT</td>\n",
       "      <td>OR</td>\n",
       "      <td>40.06</td>\n",
       "      <td>8.748</td>\n",
       "      <td>D8147D8X</td>\n",
       "      <td>IT</td>\n",
       "      <td>9F7343FA</td>\n",
       "    </tr>\n",
       "  </tbody>\n",
       "</table>\n",
       "</div>"
      ],
      "text/plain": [
       "     StateName CountryCode StateCode  StateLat  StateLon CountryID ISO2  \\\n",
       "1867  Oristano          IT        OR     40.06     8.748  D8147D8X   IT   \n",
       "\n",
       "       StateID  \n",
       "1867  9F7343FA  "
      ]
     },
     "execution_count": 9,
     "metadata": {},
     "output_type": "execute_result"
    }
   ],
   "source": [
    "states = pd.read_csv(\n",
    "    \"https://github.com/dr5hn/countries-states-cities-database/raw/master/csv/states.csv\",\n",
    "    usecols = [\"name\", \"country_code\", \"state_code\", \"latitude\", \"longitude\"],\n",
    "    encoding = \"utf8\"\n",
    ")\n",
    "\n",
    "# rename columns, to reflect the ones in database\n",
    "states.rename(columns = {\n",
    "    \"name\" : \"StateName\",\n",
    "    \"country_code\" : \"CountryCode\",\n",
    "    \"state_code\" : \"StateCode\",\n",
    "    \"latitude\" : \"StateLat\",\n",
    "    \"longitude\" : \"StateLon\"\n",
    "}, inplace = True)\n",
    "\n",
    "states[\"StateLat\"] = states[\"StateLat\"].apply(lambda x : round(x, 3))\n",
    "states[\"StateLon\"] = states[\"StateLon\"].apply(lambda x : round(x, 3))\n",
    "states[\"StateCode\"] = states[\"StateCode\"].astype(str)\n",
    "\n",
    "# merge on countries, and get country id\n",
    "states = states.merge(countries.reset_index()[[\"CountryID\", \"ISO2\"]], left_on = \"CountryCode\", right_on = \"ISO2\", how = \"left\")\n",
    "\n",
    "# generate id columns\n",
    "states[\"StateID\"] = [IDGenerator() for _ in range(states.shape[0])]\n",
    "states.sample()"
   ]
  },
  {
   "cell_type": "code",
   "execution_count": 10,
   "id": "4f4afe93",
   "metadata": {
    "ExecuteTime": {
     "end_time": "2022-06-16T11:32:45.579183Z",
     "start_time": "2022-06-16T11:32:45.550926Z"
    }
   },
   "outputs": [
    {
     "data": {
      "text/html": [
       "<div>\n",
       "<style scoped>\n",
       "    .dataframe tbody tr th:only-of-type {\n",
       "        vertical-align: middle;\n",
       "    }\n",
       "\n",
       "    .dataframe tbody tr th {\n",
       "        vertical-align: top;\n",
       "    }\n",
       "\n",
       "    .dataframe thead th {\n",
       "        text-align: right;\n",
       "    }\n",
       "</style>\n",
       "<table border=\"1\" class=\"dataframe\">\n",
       "  <thead>\n",
       "    <tr style=\"text-align: right;\">\n",
       "      <th></th>\n",
       "      <th>CountryName</th>\n",
       "      <th>ISO3</th>\n",
       "      <th>ISO2</th>\n",
       "      <th>NumericCode</th>\n",
       "      <th>CurrencyCode</th>\n",
       "      <th>CurrencyName</th>\n",
       "      <th>CurrencySymbol</th>\n",
       "      <th>TLDCode</th>\n",
       "      <th>RegionName</th>\n",
       "      <th>SubRegionName</th>\n",
       "      <th>CountryLat</th>\n",
       "      <th>CountryLon</th>\n",
       "      <th>CountryID</th>\n",
       "      <th>CountryCapital</th>\n",
       "    </tr>\n",
       "  </thead>\n",
       "  <tbody>\n",
       "    <tr>\n",
       "      <th>144</th>\n",
       "      <td>Micronesia</td>\n",
       "      <td>FSM</td>\n",
       "      <td>FM</td>\n",
       "      <td>583</td>\n",
       "      <td>USD</td>\n",
       "      <td>United States dollar</td>\n",
       "      <td>$</td>\n",
       "      <td>.fm</td>\n",
       "      <td>Oceania</td>\n",
       "      <td>Micronesia</td>\n",
       "      <td>6.917</td>\n",
       "      <td>158.25</td>\n",
       "      <td>577A9D4Y</td>\n",
       "      <td>NaN</td>\n",
       "    </tr>\n",
       "  </tbody>\n",
       "</table>\n",
       "</div>"
      ],
      "text/plain": [
       "    CountryName ISO3 ISO2  NumericCode CurrencyCode          CurrencyName  \\\n",
       "144  Micronesia  FSM   FM          583          USD  United States dollar   \n",
       "\n",
       "    CurrencySymbol TLDCode RegionName SubRegionName  CountryLat  CountryLon  \\\n",
       "144              $     .fm    Oceania    Micronesia       6.917      158.25   \n",
       "\n",
       "    CountryID CountryCapital  \n",
       "144  577A9D4Y            NaN  "
      ]
     },
     "execution_count": 10,
     "metadata": {},
     "output_type": "execute_result"
    }
   ],
   "source": [
    "# update capital name with state id\n",
    "countries = countries.merge(states[[\"StateID\", \"StateName\"]], left_on = \"capital\", right_on = \"StateName\", how = \"left\")\n",
    "countries.rename(columns = {\"StateID\" : \"CountryCapital\"}, inplace = True)\n",
    "countries.drop(columns = [\"capital\", \"StateName\"], inplace = True)\n",
    "\n",
    "countries.sample()"
   ]
  },
  {
   "cell_type": "code",
   "execution_count": 11,
   "id": "531a808f",
   "metadata": {
    "ExecuteTime": {
     "end_time": "2022-06-16T11:32:45.594626Z",
     "start_time": "2022-06-16T11:32:45.580645Z"
    }
   },
   "outputs": [
    {
     "data": {
      "text/html": [
       "<div>\n",
       "<style scoped>\n",
       "    .dataframe tbody tr th:only-of-type {\n",
       "        vertical-align: middle;\n",
       "    }\n",
       "\n",
       "    .dataframe tbody tr th {\n",
       "        vertical-align: top;\n",
       "    }\n",
       "\n",
       "    .dataframe thead th {\n",
       "        text-align: right;\n",
       "    }\n",
       "</style>\n",
       "<table border=\"1\" class=\"dataframe\">\n",
       "  <thead>\n",
       "    <tr style=\"text-align: right;\">\n",
       "      <th></th>\n",
       "      <th>CurrencyCode</th>\n",
       "      <th>CurrencyName</th>\n",
       "      <th>CurrencySymbol</th>\n",
       "    </tr>\n",
       "  </thead>\n",
       "  <tbody>\n",
       "    <tr>\n",
       "      <th>30</th>\n",
       "      <td>NOK</td>\n",
       "      <td>Norwegian Krone</td>\n",
       "      <td>kr</td>\n",
       "    </tr>\n",
       "  </tbody>\n",
       "</table>\n",
       "</div>"
      ],
      "text/plain": [
       "   CurrencyCode     CurrencyName CurrencySymbol\n",
       "30          NOK  Norwegian Krone             kr"
      ]
     },
     "execution_count": 11,
     "metadata": {},
     "output_type": "execute_result"
    }
   ],
   "source": [
    "# get currency dataset\n",
    "currency = countries[[\"CurrencyCode\", \"CurrencyName\", \"CurrencySymbol\"]].dropna().drop_duplicates()\n",
    "\n",
    "# drop duplicate currency name\n",
    "currency.drop_duplicates(\"CurrencyCode\", inplace = True)\n",
    "currency.drop_duplicates([\"CurrencyCode\", \"CurrencyName\"], inplace = True)\n",
    "\n",
    "currency.sample()"
   ]
  },
  {
   "cell_type": "code",
   "execution_count": 12,
   "id": "f6c84c65",
   "metadata": {
    "ExecuteTime": {
     "end_time": "2022-06-16T11:32:45.610628Z",
     "start_time": "2022-06-16T11:32:45.595627Z"
    }
   },
   "outputs": [
    {
     "data": {
      "text/html": [
       "<div>\n",
       "<style scoped>\n",
       "    .dataframe tbody tr th:only-of-type {\n",
       "        vertical-align: middle;\n",
       "    }\n",
       "\n",
       "    .dataframe tbody tr th {\n",
       "        vertical-align: top;\n",
       "    }\n",
       "\n",
       "    .dataframe thead th {\n",
       "        text-align: right;\n",
       "    }\n",
       "</style>\n",
       "<table border=\"1\" class=\"dataframe\">\n",
       "  <thead>\n",
       "    <tr style=\"text-align: right;\">\n",
       "      <th></th>\n",
       "      <th>CountryName</th>\n",
       "      <th>ISO3</th>\n",
       "      <th>ISO2</th>\n",
       "      <th>NumericCode</th>\n",
       "      <th>CurrencyCode</th>\n",
       "      <th>TLDCode</th>\n",
       "      <th>RegionName</th>\n",
       "      <th>SubRegionName</th>\n",
       "      <th>CountryLat</th>\n",
       "      <th>CountryLon</th>\n",
       "      <th>CountryID</th>\n",
       "      <th>CountryCapital</th>\n",
       "    </tr>\n",
       "  </thead>\n",
       "  <tbody>\n",
       "    <tr>\n",
       "      <th>192</th>\n",
       "      <td>Saint-Barthelemy</td>\n",
       "      <td>BLM</td>\n",
       "      <td>BL</td>\n",
       "      <td>652</td>\n",
       "      <td>EUR</td>\n",
       "      <td>.bl</td>\n",
       "      <td>Americas</td>\n",
       "      <td>Caribbean</td>\n",
       "      <td>18.5</td>\n",
       "      <td>-63.417</td>\n",
       "      <td>53E634FJ</td>\n",
       "      <td>NaN</td>\n",
       "    </tr>\n",
       "  </tbody>\n",
       "</table>\n",
       "</div>"
      ],
      "text/plain": [
       "          CountryName ISO3 ISO2  NumericCode CurrencyCode TLDCode RegionName  \\\n",
       "192  Saint-Barthelemy  BLM   BL          652          EUR     .bl   Americas   \n",
       "\n",
       "    SubRegionName  CountryLat  CountryLon CountryID CountryCapital  \n",
       "192     Caribbean        18.5     -63.417  53E634FJ            NaN  "
      ]
     },
     "execution_count": 12,
     "metadata": {},
     "output_type": "execute_result"
    }
   ],
   "source": [
    "# remove processed columns from `countries`\n",
    "countries.drop(columns = [\"CurrencyName\", \"CurrencySymbol\"], inplace = True)\n",
    "countries.sample()"
   ]
  },
  {
   "cell_type": "code",
   "execution_count": 13,
   "id": "c09a5274",
   "metadata": {
    "ExecuteTime": {
     "end_time": "2022-06-16T11:32:45.626628Z",
     "start_time": "2022-06-16T11:32:45.611629Z"
    }
   },
   "outputs": [
    {
     "data": {
      "text/html": [
       "<div>\n",
       "<style scoped>\n",
       "    .dataframe tbody tr th:only-of-type {\n",
       "        vertical-align: middle;\n",
       "    }\n",
       "\n",
       "    .dataframe tbody tr th {\n",
       "        vertical-align: top;\n",
       "    }\n",
       "\n",
       "    .dataframe thead th {\n",
       "        text-align: right;\n",
       "    }\n",
       "</style>\n",
       "<table border=\"1\" class=\"dataframe\">\n",
       "  <thead>\n",
       "    <tr style=\"text-align: right;\">\n",
       "      <th></th>\n",
       "      <th>RegionName</th>\n",
       "      <th>SubRegionName</th>\n",
       "      <th>RegionID</th>\n",
       "    </tr>\n",
       "  </thead>\n",
       "  <tbody>\n",
       "    <tr>\n",
       "      <th>21</th>\n",
       "      <td>Americas</td>\n",
       "      <td>Central America</td>\n",
       "      <td>2B254B7I</td>\n",
       "    </tr>\n",
       "  </tbody>\n",
       "</table>\n",
       "</div>"
      ],
      "text/plain": [
       "   RegionName    SubRegionName  RegionID\n",
       "21   Americas  Central America  2B254B7I"
      ]
     },
     "execution_count": 13,
     "metadata": {},
     "output_type": "execute_result"
    }
   ],
   "source": [
    "# get a set of unique regions\n",
    "regions = countries[[\"RegionName\", \"SubRegionName\"]].dropna().drop_duplicates().sort_values([\"RegionName\", \"SubRegionName\"])\n",
    "\n",
    "# generate unique ids\n",
    "regions[\"RegionID\"] = [IDGenerator() for _ in range(regions.shape[0])]\n",
    "regions.sample()"
   ]
  },
  {
   "cell_type": "code",
   "execution_count": 14,
   "id": "e10f0296",
   "metadata": {
    "ExecuteTime": {
     "end_time": "2022-06-16T11:32:45.642627Z",
     "start_time": "2022-06-16T11:32:45.627627Z"
    }
   },
   "outputs": [
    {
     "data": {
      "text/html": [
       "<div>\n",
       "<style scoped>\n",
       "    .dataframe tbody tr th:only-of-type {\n",
       "        vertical-align: middle;\n",
       "    }\n",
       "\n",
       "    .dataframe tbody tr th {\n",
       "        vertical-align: top;\n",
       "    }\n",
       "\n",
       "    .dataframe thead th {\n",
       "        text-align: right;\n",
       "    }\n",
       "</style>\n",
       "<table border=\"1\" class=\"dataframe\">\n",
       "  <thead>\n",
       "    <tr style=\"text-align: right;\">\n",
       "      <th></th>\n",
       "      <th>CountryName</th>\n",
       "      <th>ISO3</th>\n",
       "      <th>ISO2</th>\n",
       "      <th>NumericCode</th>\n",
       "      <th>CurrencyCode</th>\n",
       "      <th>TLDCode</th>\n",
       "      <th>CountryLat</th>\n",
       "      <th>CountryLon</th>\n",
       "      <th>CountryID</th>\n",
       "      <th>CountryCapital</th>\n",
       "      <th>RegionID</th>\n",
       "    </tr>\n",
       "  </thead>\n",
       "  <tbody>\n",
       "    <tr>\n",
       "      <th>55</th>\n",
       "      <td>Croatia</td>\n",
       "      <td>HRV</td>\n",
       "      <td>HR</td>\n",
       "      <td>191</td>\n",
       "      <td>HRK</td>\n",
       "      <td>.hr</td>\n",
       "      <td>45.167</td>\n",
       "      <td>15.5</td>\n",
       "      <td>BC8FCD0S</td>\n",
       "      <td>A67EE6DY</td>\n",
       "      <td>08F653CG</td>\n",
       "    </tr>\n",
       "  </tbody>\n",
       "</table>\n",
       "</div>"
      ],
      "text/plain": [
       "   CountryName ISO3 ISO2  NumericCode CurrencyCode TLDCode  CountryLat  \\\n",
       "55     Croatia  HRV   HR          191          HRK     .hr      45.167   \n",
       "\n",
       "    CountryLon CountryID CountryCapital  RegionID  \n",
       "55        15.5  BC8FCD0S       A67EE6DY  08F653CG  "
      ]
     },
     "execution_count": 14,
     "metadata": {},
     "output_type": "execute_result"
    }
   ],
   "source": [
    "countries = countries.merge(regions, on = [\"RegionName\", \"SubRegionName\"], how = \"left\")\n",
    "\n",
    "# remove processed columns from `countries`\n",
    "countries.drop(columns = [\"RegionName\", \"SubRegionName\"], inplace = True)\n",
    "countries.sample()"
   ]
  },
  {
   "cell_type": "markdown",
   "id": "4b4f182a",
   "metadata": {},
   "source": [
    "## Save to Disk"
   ]
  },
  {
   "cell_type": "code",
   "execution_count": 15,
   "id": "730afe41",
   "metadata": {
    "ExecuteTime": {
     "end_time": "2022-06-16T11:32:45.658648Z",
     "start_time": "2022-06-16T11:32:45.643626Z"
    }
   },
   "outputs": [],
   "source": [
    "states.drop_duplicates([\"StateID\", \"StateName\"], inplace = True)\n",
    "countries.drop_duplicates([\"CountryID\", \"CountryName\"], inplace = True)"
   ]
  },
  {
   "cell_type": "code",
   "execution_count": 16,
   "id": "7ac3b7c5",
   "metadata": {
    "ExecuteTime": {
     "end_time": "2022-06-16T11:32:45.673976Z",
     "start_time": "2022-06-16T11:32:45.659640Z"
    }
   },
   "outputs": [],
   "source": [
    "countries.set_index(\"CountryID\", inplace = True)\n",
    "states.set_index(\"StateID\", inplace = True)\n",
    "currency.set_index(\"CurrencyCode\", inplace = True)\n",
    "regions.set_index(\"RegionID\", inplace = True)"
   ]
  },
  {
   "cell_type": "code",
   "execution_count": 17,
   "id": "ae7abef5",
   "metadata": {
    "ExecuteTime": {
     "end_time": "2022-06-16T11:32:45.690024Z",
     "start_time": "2022-06-16T11:32:45.675975Z"
    }
   },
   "outputs": [
    {
     "data": {
      "text/html": [
       "<div>\n",
       "<style scoped>\n",
       "    .dataframe tbody tr th:only-of-type {\n",
       "        vertical-align: middle;\n",
       "    }\n",
       "\n",
       "    .dataframe tbody tr th {\n",
       "        vertical-align: top;\n",
       "    }\n",
       "\n",
       "    .dataframe thead th {\n",
       "        text-align: right;\n",
       "    }\n",
       "</style>\n",
       "<table border=\"1\" class=\"dataframe\">\n",
       "  <thead>\n",
       "    <tr style=\"text-align: right;\">\n",
       "      <th></th>\n",
       "      <th>RegionName</th>\n",
       "      <th>SubRegionName</th>\n",
       "    </tr>\n",
       "    <tr>\n",
       "      <th>RegionID</th>\n",
       "      <th></th>\n",
       "      <th></th>\n",
       "    </tr>\n",
       "  </thead>\n",
       "  <tbody>\n",
       "    <tr>\n",
       "      <th>08F653CG</th>\n",
       "      <td>Europe</td>\n",
       "      <td>Southern Europe</td>\n",
       "    </tr>\n",
       "  </tbody>\n",
       "</table>\n",
       "</div>"
      ],
      "text/plain": [
       "         RegionName    SubRegionName\n",
       "RegionID                            \n",
       "08F653CG     Europe  Southern Europe"
      ]
     },
     "execution_count": 17,
     "metadata": {},
     "output_type": "execute_result"
    }
   ],
   "source": [
    "regions.sample()"
   ]
  },
  {
   "cell_type": "code",
   "execution_count": 18,
   "id": "717b98ca",
   "metadata": {
    "ExecuteTime": {
     "end_time": "2022-06-16T11:32:45.706027Z",
     "start_time": "2022-06-16T11:32:45.691025Z"
    }
   },
   "outputs": [
    {
     "data": {
      "text/html": [
       "<div>\n",
       "<style scoped>\n",
       "    .dataframe tbody tr th:only-of-type {\n",
       "        vertical-align: middle;\n",
       "    }\n",
       "\n",
       "    .dataframe tbody tr th {\n",
       "        vertical-align: top;\n",
       "    }\n",
       "\n",
       "    .dataframe thead th {\n",
       "        text-align: right;\n",
       "    }\n",
       "</style>\n",
       "<table border=\"1\" class=\"dataframe\">\n",
       "  <thead>\n",
       "    <tr style=\"text-align: right;\">\n",
       "      <th></th>\n",
       "      <th>CountryName</th>\n",
       "      <th>ISO3</th>\n",
       "      <th>ISO2</th>\n",
       "      <th>NumericCode</th>\n",
       "      <th>RegionID</th>\n",
       "      <th>CurrencyCode</th>\n",
       "      <th>TLDCode</th>\n",
       "      <th>CountryLat</th>\n",
       "      <th>CountryLon</th>\n",
       "      <th>CountryCapital</th>\n",
       "    </tr>\n",
       "    <tr>\n",
       "      <th>CountryID</th>\n",
       "      <th></th>\n",
       "      <th></th>\n",
       "      <th></th>\n",
       "      <th></th>\n",
       "      <th></th>\n",
       "      <th></th>\n",
       "      <th></th>\n",
       "      <th></th>\n",
       "      <th></th>\n",
       "      <th></th>\n",
       "    </tr>\n",
       "  </thead>\n",
       "  <tbody>\n",
       "    <tr>\n",
       "      <th>A7E507FU</th>\n",
       "      <td>Dominica</td>\n",
       "      <td>DMA</td>\n",
       "      <td>DM</td>\n",
       "      <td>212</td>\n",
       "      <td>A22C9E2G</td>\n",
       "      <td>XCD</td>\n",
       "      <td>.dm</td>\n",
       "      <td>15.417</td>\n",
       "      <td>-61.333</td>\n",
       "      <td>NaN</td>\n",
       "    </tr>\n",
       "  </tbody>\n",
       "</table>\n",
       "</div>"
      ],
      "text/plain": [
       "          CountryName ISO3 ISO2  NumericCode  RegionID CurrencyCode TLDCode  \\\n",
       "CountryID                                                                     \n",
       "A7E507FU     Dominica  DMA   DM          212  A22C9E2G          XCD     .dm   \n",
       "\n",
       "           CountryLat  CountryLon CountryCapital  \n",
       "CountryID                                         \n",
       "A7E507FU       15.417     -61.333            NaN  "
      ]
     },
     "execution_count": 18,
     "metadata": {},
     "output_type": "execute_result"
    }
   ],
   "source": [
    "countries = countries[[\"CountryName\", \"ISO3\", \"ISO2\", \"NumericCode\", \"RegionID\", \"CurrencyCode\", \"TLDCode\", \"CountryLat\", \"CountryLon\", \"CountryCapital\"]]\n",
    "countries.sample()"
   ]
  },
  {
   "cell_type": "code",
   "execution_count": 19,
   "id": "5300b3c7",
   "metadata": {
    "ExecuteTime": {
     "end_time": "2022-06-16T11:32:45.722072Z",
     "start_time": "2022-06-16T11:32:45.707024Z"
    }
   },
   "outputs": [
    {
     "data": {
      "text/html": [
       "<div>\n",
       "<style scoped>\n",
       "    .dataframe tbody tr th:only-of-type {\n",
       "        vertical-align: middle;\n",
       "    }\n",
       "\n",
       "    .dataframe tbody tr th {\n",
       "        vertical-align: top;\n",
       "    }\n",
       "\n",
       "    .dataframe thead th {\n",
       "        text-align: right;\n",
       "    }\n",
       "</style>\n",
       "<table border=\"1\" class=\"dataframe\">\n",
       "  <thead>\n",
       "    <tr style=\"text-align: right;\">\n",
       "      <th></th>\n",
       "      <th>StateName</th>\n",
       "      <th>StateCode</th>\n",
       "      <th>CountryID</th>\n",
       "      <th>StateLat</th>\n",
       "      <th>StateLon</th>\n",
       "    </tr>\n",
       "    <tr>\n",
       "      <th>StateID</th>\n",
       "      <th></th>\n",
       "      <th></th>\n",
       "      <th></th>\n",
       "      <th></th>\n",
       "      <th></th>\n",
       "    </tr>\n",
       "  </thead>\n",
       "  <tbody>\n",
       "    <tr>\n",
       "      <th>3BBAAE5K</th>\n",
       "      <td>Inverclyde</td>\n",
       "      <td>IVC</td>\n",
       "      <td>81866AFA</td>\n",
       "      <td>55.932</td>\n",
       "      <td>-4.68</td>\n",
       "    </tr>\n",
       "  </tbody>\n",
       "</table>\n",
       "</div>"
      ],
      "text/plain": [
       "           StateName StateCode CountryID  StateLat  StateLon\n",
       "StateID                                                     \n",
       "3BBAAE5K  Inverclyde       IVC  81866AFA    55.932     -4.68"
      ]
     },
     "execution_count": 19,
     "metadata": {},
     "output_type": "execute_result"
    }
   ],
   "source": [
    "states = states[[\"StateName\", \"StateCode\", \"CountryID\", \"StateLat\", \"StateLon\"]]\n",
    "states.sample()"
   ]
  },
  {
   "cell_type": "code",
   "execution_count": 20,
   "id": "1e34f101",
   "metadata": {
    "ExecuteTime": {
     "end_time": "2022-06-16T11:32:45.738025Z",
     "start_time": "2022-06-16T11:32:45.723028Z"
    }
   },
   "outputs": [
    {
     "data": {
      "text/html": [
       "<div>\n",
       "<style scoped>\n",
       "    .dataframe tbody tr th:only-of-type {\n",
       "        vertical-align: middle;\n",
       "    }\n",
       "\n",
       "    .dataframe tbody tr th {\n",
       "        vertical-align: top;\n",
       "    }\n",
       "\n",
       "    .dataframe thead th {\n",
       "        text-align: right;\n",
       "    }\n",
       "</style>\n",
       "<table border=\"1\" class=\"dataframe\">\n",
       "  <thead>\n",
       "    <tr style=\"text-align: right;\">\n",
       "      <th></th>\n",
       "      <th>CurrencyName</th>\n",
       "      <th>CurrencySymbol</th>\n",
       "    </tr>\n",
       "    <tr>\n",
       "      <th>CurrencyCode</th>\n",
       "      <th></th>\n",
       "      <th></th>\n",
       "    </tr>\n",
       "  </thead>\n",
       "  <tbody>\n",
       "    <tr>\n",
       "      <th>AFN</th>\n",
       "      <td>Afghan afghani</td>\n",
       "      <td>؋</td>\n",
       "    </tr>\n",
       "  </tbody>\n",
       "</table>\n",
       "</div>"
      ],
      "text/plain": [
       "                CurrencyName CurrencySymbol\n",
       "CurrencyCode                               \n",
       "AFN           Afghan afghani              ؋"
      ]
     },
     "execution_count": 20,
     "metadata": {},
     "output_type": "execute_result"
    }
   ],
   "source": [
    "currency.sample()"
   ]
  },
  {
   "cell_type": "code",
   "execution_count": 21,
   "id": "9f0e72aa",
   "metadata": {
    "ExecuteTime": {
     "end_time": "2022-06-16T11:32:47.034619Z",
     "start_time": "2022-06-16T11:32:45.739024Z"
    }
   },
   "outputs": [],
   "source": [
    "wb = xw.Book(join(\".\", \"data\", r\"Location Master Template.xlsx\"))\n",
    "\n",
    "# about sheet is populated from `CodeMeta.yml` file\n",
    "with open(join(\".\", \"data\", \"CodeMeta.yaml\")) as f:\n",
    "    meta = yaml.load(f, Loader = yaml.FullLoader)\n",
    "    \n",
    "for cell, value in meta[\"about\"].items():\n",
    "    if cell == \"J7\":\n",
    "        value = eval(value) # check comment on meta\n",
    "\n",
    "    wb.sheets[\"about\"][cell].value = value\n",
    "    \n",
    "wb.sheets[\"about\"][\"C11\"].value = ctime()\n",
    "\n",
    "# update/add dataframe to all other sheets\n",
    "wb.sheets[\"RegionMaster\"][\"A1\"].value = regions\n",
    "wb.sheets[\"CountryMaster\"][\"A1\"].value = countries\n",
    "wb.sheets[\"StateMaster\"][\"A1\"].value = states\n",
    "wb.sheets[\"CurrencyMaster\"][\"A1\"].value = currency\n",
    "\n",
    "# save to a new file, with the convention specified above\n",
    "wb.save(OUTPUT_FILE); wb.close()"
   ]
  },
  {
   "cell_type": "markdown",
   "id": "e88d8b93",
   "metadata": {},
   "source": [
    "```python\n",
    "python main.py localhost 33060 root admin179 LocationMaster \"./data/Location Master (Thu, Jun 16 2022) #716A6AE.xlsx\"\n",
    "```"
   ]
  }
 ],
 "metadata": {
  "kernelspec": {
   "display_name": "Python 3 (ipykernel)",
   "language": "python",
   "name": "python3"
  },
  "language_info": {
   "codemirror_mode": {
    "name": "ipython",
    "version": 3
   },
   "file_extension": ".py",
   "mimetype": "text/x-python",
   "name": "python",
   "nbconvert_exporter": "python",
   "pygments_lexer": "ipython3",
   "version": "3.9.12"
  },
  "latex_envs": {
   "LaTeX_envs_menu_present": true,
   "autoclose": false,
   "autocomplete": true,
   "bibliofile": "biblio.bib",
   "cite_by": "apalike",
   "current_citInitial": 1,
   "eqLabelWithNumbers": true,
   "eqNumInitial": 1,
   "hotkeys": {
    "equation": "Ctrl-E",
    "itemize": "Ctrl-I"
   },
   "labels_anchors": false,
   "latex_user_defs": false,
   "report_style_numbering": false,
   "user_envs_cfg": false
  },
  "toc": {
   "base_numbering": 1,
   "nav_menu": {},
   "number_sections": false,
   "sideBar": true,
   "skip_h1_title": true,
   "title_cell": "Table of Contents",
   "title_sidebar": "Contents",
   "toc_cell": false,
   "toc_position": {},
   "toc_section_display": true,
   "toc_window_display": false
  },
  "varInspector": {
   "cols": {
    "lenName": 16,
    "lenType": 16,
    "lenVar": 40
   },
   "kernels_config": {
    "python": {
     "delete_cmd_postfix": "",
     "delete_cmd_prefix": "del ",
     "library": "var_list.py",
     "varRefreshCmd": "print(var_dic_list())"
    },
    "r": {
     "delete_cmd_postfix": ") ",
     "delete_cmd_prefix": "rm(",
     "library": "var_list.r",
     "varRefreshCmd": "cat(var_dic_list()) "
    }
   },
   "types_to_exclude": [
    "module",
    "function",
    "builtin_function_or_method",
    "instance",
    "_Feature"
   ],
   "window_display": false
  }
 },
 "nbformat": 4,
 "nbformat_minor": 5
}
